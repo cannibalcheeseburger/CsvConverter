{
 "nbformat": 4,
 "nbformat_minor": 2,
 "metadata": {
  "language_info": {
   "name": "python",
   "codemirror_mode": {
    "name": "ipython",
    "version": 3
   },
   "version": "3.7.5-final"
  },
  "orig_nbformat": 2,
  "file_extension": ".py",
  "mimetype": "text/x-python",
  "name": "python",
  "npconvert_exporter": "python",
  "pygments_lexer": "ipython3",
  "version": 3,
  "kernelspec": {
   "name": "python37564bitc243af38d05246b9b28d2acfe5e08664",
   "display_name": "Python 3.7.5 64-bit"
  }
 },
 "cells": [
  {
   "cell_type": "code",
   "execution_count": 1,
   "metadata": {},
   "outputs": [],
   "source": [
    "import sqlite3"
   ]
  },
  {
   "cell_type": "code",
   "execution_count": 2,
   "metadata": {},
   "outputs": [],
   "source": [
    "conn = sqlite3.connect(\"example.db\")"
   ]
  },
  {
   "cell_type": "code",
   "execution_count": 3,
   "metadata": {},
   "outputs": [],
   "source": [
    "c = conn.cursor()"
   ]
  },
  {
   "cell_type": "code",
   "execution_count": 4,
   "metadata": {},
   "outputs": [],
   "source": [
    "import pandas as pd"
   ]
  },
  {
   "cell_type": "code",
   "execution_count": 9,
   "metadata": {},
   "outputs": [],
   "source": [
    "df = pd.read_csv(\"./ccsv.csv\",index_col=[0])"
   ]
  },
  {
   "cell_type": "code",
   "execution_count": 10,
   "metadata": {},
   "outputs": [
    {
     "output_type": "execute_result",
     "data": {
      "text/plain": "        ID                Name  Season                 Last_ep    Aired on\n0  1520211    The Walking Dead      10               The Tower  2020-04-05\n1  2467372  Brooklyn Nine-Nine       7         Admiral Peralta  2020-04-02\n2  3526078      Schitt's Creek       6            Happy Ending  2020-04-07\n3  2861424      Rick and Morty       4  Rattlestar Ricklactica  2019-12-15\n4  8531222                Dave       1            Talent Shows  2020-04-01",
      "text/html": "<div>\n<style scoped>\n    .dataframe tbody tr th:only-of-type {\n        vertical-align: middle;\n    }\n\n    .dataframe tbody tr th {\n        vertical-align: top;\n    }\n\n    .dataframe thead th {\n        text-align: right;\n    }\n</style>\n<table border=\"1\" class=\"dataframe\">\n  <thead>\n    <tr style=\"text-align: right;\">\n      <th></th>\n      <th>ID</th>\n      <th>Name</th>\n      <th>Season</th>\n      <th>Last_ep</th>\n      <th>Aired on</th>\n    </tr>\n  </thead>\n  <tbody>\n    <tr>\n      <th>0</th>\n      <td>1520211</td>\n      <td>The Walking Dead</td>\n      <td>10</td>\n      <td>The Tower</td>\n      <td>2020-04-05</td>\n    </tr>\n    <tr>\n      <th>1</th>\n      <td>2467372</td>\n      <td>Brooklyn Nine-Nine</td>\n      <td>7</td>\n      <td>Admiral Peralta</td>\n      <td>2020-04-02</td>\n    </tr>\n    <tr>\n      <th>2</th>\n      <td>3526078</td>\n      <td>Schitt's Creek</td>\n      <td>6</td>\n      <td>Happy Ending</td>\n      <td>2020-04-07</td>\n    </tr>\n    <tr>\n      <th>3</th>\n      <td>2861424</td>\n      <td>Rick and Morty</td>\n      <td>4</td>\n      <td>Rattlestar Ricklactica</td>\n      <td>2019-12-15</td>\n    </tr>\n    <tr>\n      <th>4</th>\n      <td>8531222</td>\n      <td>Dave</td>\n      <td>1</td>\n      <td>Talent Shows</td>\n      <td>2020-04-01</td>\n    </tr>\n  </tbody>\n</table>\n</div>"
     },
     "metadata": {},
     "execution_count": 10
    }
   ],
   "source": [
    "df.head()"
   ]
  },
  {
   "cell_type": "code",
   "execution_count": 11,
   "metadata": {},
   "outputs": [
    {
     "output_type": "execute_result",
     "data": {
      "text/plain": "<sqlite3.Cursor at 0x7fbb8962c260>"
     },
     "metadata": {},
     "execution_count": 11
    }
   ],
   "source": [
    "c.execute(\"CREATE TABLE eg(ID TEXT,Name TEXT, Season INTEGER,Last_ep TEXT,Aired_on TEXt)\")"
   ]
  },
  {
   "cell_type": "code",
   "execution_count": 19,
   "metadata": {},
   "outputs": [],
   "source": [
    "for index,row in df.iterrows():\n",
    "    c.execute(\"INSERT INTO eg VALUES(?,?,?,?,?)\",[row[\"ID\"],row[\"Name\"],row[\"Season\"],row[\"Last_ep\"],row[\"Aired on\"]])\n",
    "    conn.commit()"
   ]
  },
  {
   "cell_type": "code",
   "execution_count": null,
   "metadata": {},
   "outputs": [],
   "source": [
    "c.execute()"
   ]
  },
  {
   "cell_type": "code",
   "execution_count": 21,
   "metadata": {},
   "outputs": [
    {
     "output_type": "stream",
     "name": "stdout",
     "text": "ID\nName\nSeason\nLast_ep\nAired on\n"
    }
   ],
   "source": [
    "for i in df.columns:\n",
    "    print(i)"
   ]
  },
  {
   "cell_type": "code",
   "execution_count": 26,
   "metadata": {},
   "outputs": [
    {
     "output_type": "stream",
     "name": "stdout",
     "text": "int64\nobject\nint64\nobject\nobject\n"
    }
   ],
   "source": [
    "for i in df.dtypes:\n",
    "    print(i)"
   ]
  },
  {
   "cell_type": "code",
   "execution_count": 1,
   "metadata": {},
   "outputs": [],
   "source": [
    "import sqlite3\n",
    "import pandas as pd\n",
    "\n",
    "dbname = input(\"Enter name of Database:\")\n",
    "conn = sqlite3.connect(dbname)\n",
    "c = conn.cursor()\n",
    "\n",
    "path = input(\"Enter path of csv file:\")\n",
    "df = pd.read_csv(path,index_col = [0])\n",
    "\n",
    "columns = df.columns\n",
    "\n",
    "\n",
    "\n",
    ""
   ]
  },
  {
   "cell_type": "code",
   "execution_count": 2,
   "metadata": {},
   "outputs": [],
   "source": [
    "for i in range(len(columns)):\n",
    "    if \" \" in columns[i]:\n",
    "        columns[i] = columns[i].replace(\" \",\"_\")"
   ]
  },
  {
   "cell_type": "code",
   "execution_count": 3,
   "metadata": {},
   "outputs": [],
   "source": [
    "types =[]\n",
    "table = input(\"Enter name of table:\")\n",
    "for i in df.dtypes:\n",
    "    if \"int\" in str(i):\n",
    "        types.append(\"INTEGER\")\n",
    "\n",
    "    elif \"float\" in str(i):\n",
    "        types.append(\"REAL\")\n",
    "\n",
    "    else :   \n",
    "        types.append(\"TEXT\")\n",
    "        \n",
    "execute_create =\"CREATE TABLE \"+ table + \" (\"\n",
    "\n",
    "for i in range(len(types)-1):\n",
    "    execute_create = execute_create + columns[i]+\" \" +types[i]+\",\"\n",
    ""
   ]
  },
  {
   "cell_type": "code",
   "execution_count": 4,
   "metadata": {},
   "outputs": [
    {
     "output_type": "stream",
     "name": "stdout",
     "text": "CREATE TABLE lool (ID INTEGER,Name TEXT,Season INTEGER,Last_ep TEXT,Airedon TEXT)\n"
    }
   ],
   "source": [
    "execute_create = execute_create+ columns[len(types)-1]+\" \"+types[len(types)-1]+\")\"\n",
    "print(execute_create)\n",
    "\n",
    ""
   ]
  },
  {
   "cell_type": "code",
   "execution_count": 5,
   "metadata": {},
   "outputs": [
    {
     "output_type": "error",
     "ename": "OperationalError",
     "evalue": "table lool already exists",
     "traceback": [
      "\u001b[0;31m---------------------------------------------------------------------------\u001b[0m",
      "\u001b[0;31mOperationalError\u001b[0m                          Traceback (most recent call last)",
      "\u001b[0;32m<ipython-input-5-50e31994b481>\u001b[0m in \u001b[0;36m<module>\u001b[0;34m\u001b[0m\n\u001b[0;32m----> 1\u001b[0;31m \u001b[0mc\u001b[0m\u001b[0;34m.\u001b[0m\u001b[0mexecute\u001b[0m\u001b[0;34m(\u001b[0m\u001b[0mexecute_create\u001b[0m\u001b[0;34m)\u001b[0m\u001b[0;34m\u001b[0m\u001b[0;34m\u001b[0m\u001b[0m\n\u001b[0m",
      "\u001b[0;31mOperationalError\u001b[0m: table lool already exists"
     ]
    }
   ],
   "source": [
    "c.execute(execute_create)"
   ]
  },
  {
   "cell_type": "code",
   "execution_count": 17,
   "metadata": {},
   "outputs": [
    {
     "output_type": "stream",
     "name": "stdout",
     "text": "INSERT INTO lool VALUES('The Walking Dead','The Tower',2020-04-05)\nINSERT INTO lool VALUES('Brooklyn Nine-Nine','Admiral Peralta',2020-04-02)\nINSERT INTO lool VALUES('Schitt's Creek','Happy Ending',2020-04-07)\nINSERT INTO lool VALUES('Rick and Morty','Rattlestar Ricklactica',2019-12-15)\nINSERT INTO lool VALUES('Dave','Talent Shows',2020-04-01)\nINSERT INTO lool VALUES('Westworld','The Mother of Exiles',2020-04-05)\nINSERT INTO lool VALUES('Better Call Saul','Bagman',2020-04-06)\nINSERT INTO lool VALUES('Miracle Workers','Dark Ages: Moving Out Part 2',2020-03-31)\n"
    }
   ],
   "source": [
    "execute = \"INSERT INTO \"+table +\" VALUES(\"\n",
    "for index,row in df.iterrows():\n",
    "    execute_insert = execute\n",
    "    for i in range(len(columns)-1):\n",
    "        if types[i] == \"TEXT\":\n",
    "            execute_insert = execute_insert + \"'\"+str(row[columns[i]])+\"'\"+\",\"\n",
    "        else:\n",
    "            execute_insert = execute_insert +str(row[columns[i]])+\",\"\n",
    "    execute_insert = execute_insert + str(row[columns[len(columns)-1]])+\")\"\n",
    "    print(execute_insert)        "
   ]
  },
  {
   "cell_type": "code",
   "execution_count": null,
   "metadata": {},
   "outputs": [],
   "source": []
  }
 ]
}